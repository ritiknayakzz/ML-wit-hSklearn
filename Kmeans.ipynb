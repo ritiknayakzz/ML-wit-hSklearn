{
  "nbformat": 4,
  "nbformat_minor": 0,
  "metadata": {
    "colab": {
      "name": "Kmeans.ipynb",
      "provenance": [],
      "authorship_tag": "ABX9TyOqA9M8rlUNkjVQsfHw3Hwr",
      "include_colab_link": true
    },
    "kernelspec": {
      "name": "python3",
      "display_name": "Python 3"
    },
    "language_info": {
      "name": "python"
    }
  },
  "cells": [
    {
      "cell_type": "markdown",
      "metadata": {
        "id": "view-in-github",
        "colab_type": "text"
      },
      "source": [
        "<a href=\"https://colab.research.google.com/github/ritiknayakzz/ML-with-Sklearn/blob/main/Kmeans.ipynb\" target=\"_parent\"><img src=\"https://colab.research.google.com/assets/colab-badge.svg\" alt=\"Open In Colab\"/></a>"
      ]
    },
    {
      "cell_type": "markdown",
      "metadata": {
        "id": "ZkhlTVtJMpzg"
      },
      "source": [
        "**A clustering algorithm from scratch**"
      ]
    },
    {
      "cell_type": "code",
      "metadata": {
        "id": "13I8n4UkMkNR"
      },
      "source": [
        "## Much of the code is taken from Joel Grus', \"Data Science from Scratch\" book\n",
        "class KMeans:\n",
        "\n",
        "  def __init__(self, k):\n",
        "    ## Let's set the initial no. of clusters as k\n",
        "    ## and initial means as 0\n",
        "    self.k = k\n",
        "    self.means = None\n",
        "\n",
        "  def classify(self, input):\n",
        "    return min(range(self.k),\n",
        "               key = lambda i: squared_distance(input, self.means[i]))\n",
        "    \n",
        "  def train(self, inputs):\n",
        "    self.means = random.sample(inputs, self.k)\n",
        "    assignments = None\n",
        "\n",
        "    while True:\n",
        "      new_assignments = map(self.classify, inputs)\n",
        "\n",
        "      if assignments == new_assignments:\n",
        "        return\n",
        "\n",
        "      assignments = new_assignments\n",
        "\n",
        "      for i in range(self.k):\n",
        "        i_points = [p for p, a in zip(inputs, assignments) if a == i]\n",
        "\n",
        "        if i_points:\n",
        "          self.means[i] = mean(i_points)\n",
        "\n",
        "\n",
        "def squared_distance(input, point):\n",
        "  dist = input - point\n",
        "  return dist ** 2\n",
        "\n",
        "def mean(xs, ddof = None):\n",
        "  n = len(xs)\n",
        "  sm = sum(xs)\n",
        "  if ddof:\n",
        "    return sm / ddof\n",
        "  else:\n",
        "    return sm / n"
      ],
      "execution_count": 41,
      "outputs": []
    },
    {
      "cell_type": "markdown",
      "metadata": {
        "id": "MddEW9dUS6Rv"
      },
      "source": [
        "**Using the Sklearn library**"
      ]
    },
    {
      "cell_type": "code",
      "metadata": {
        "id": "8BIrZS6hMohN"
      },
      "source": [
        "import numpy as np\n",
        "import random\n",
        "from sklearn.cluster import KMeans\n",
        "import matplotlib.pyplot as plt \n",
        "import seaborn as sns\n",
        "\n",
        "X = np.array([[1, 2], [2, 4], [2.4, 0],\n",
        "              [10, 2], [11, 4], [11.4, 0]])\n",
        "\n",
        "kmeans = KMeans(2, random_state = 0).fit(X)\n",
        "labels = kmeans.labels_\n",
        "centers = kmeans.cluster_centers_"
      ],
      "execution_count": 33,
      "outputs": []
    },
    {
      "cell_type": "code",
      "metadata": {
        "colab": {
          "base_uri": "https://localhost:8080/",
          "height": 500
        },
        "id": "cCdoJPXyMojd",
        "outputId": "34565b0b-a4b6-4b74-b7a0-4fe4b29f86e9"
      },
      "source": [
        "plt.figure(figsize = (15, 8))\n",
        "\n",
        "sns.scatterplot(x = X[:, 0], y = X[:, 1], hue = labels, s = 100)\n",
        "sns.scatterplot(x = centers[:, 0], y = centers[:, 1], marker = '+', color = 'maroon', s = 500, label = 'Centers')"
      ],
      "execution_count": 39,
      "outputs": [
        {
          "output_type": "execute_result",
          "data": {
            "text/plain": [
              "<matplotlib.axes._subplots.AxesSubplot at 0x7f76e9a36790>"
            ]
          },
          "metadata": {
            "tags": []
          },
          "execution_count": 39
        },
        {
          "output_type": "display_data",
          "data": {
            "image/png": "[encoded data removed]",
            "text/plain": [
              "<Figure size 1080x576 with 1 Axes>"
            ]
          },
          "metadata": {
            "tags": [],
            "needs_background": "light"
          }
        }
      ]
    },
    {
      "cell_type": "code",
      "metadata": {
        "colab": {
          "base_uri": "https://localhost:8080/"
        },
        "id": "1pdIbYvZMol4",
        "outputId": "606c0a6f-6268-4310-b155-881515c734e3"
      },
      "source": [
        "kmeans.predict([[0, 0], [12, 3]])"
      ],
      "execution_count": 40,
      "outputs": [
        {
          "output_type": "execute_result",
          "data": {
            "text/plain": [
              "array([1, 0], dtype=int32)"
            ]
          },
          "metadata": {
            "tags": []
          },
          "execution_count": 40
        }
      ]
    },
    {
      "cell_type": "code",
      "metadata": {
        "id": "VoIDuJa_MooH"
      },
      "source": [
        ""
      ],
      "execution_count": null,
      "outputs": []
    },
    {
      "cell_type": "code",
      "metadata": {
        "id": "LYsmVYnJMoqg"
      },
      "source": [
        ""
      ],
      "execution_count": null,
      "outputs": []
    },
    {
      "cell_type": "code",
      "metadata": {
        "id": "54gta0u0MotF"
      },
      "source": [
        ""
      ],
      "execution_count": null,
      "outputs": []
    },
    {
      "cell_type": "code",
      "metadata": {
        "id": "6saAk9vFMova"
      },
      "source": [
        ""
      ],
      "execution_count": null,
      "outputs": []
    },
    {
      "cell_type": "code",
      "metadata": {
        "id": "zuO7Am7xMoyQ"
      },
      "source": [
        ""
      ],
      "execution_count": null,
      "outputs": []
    },
    {
      "cell_type": "code",
      "metadata": {
        "id": "i9h5X1BxMo0c"
      },
      "source": [
        ""
      ],
      "execution_count": null,
      "outputs": []
    },
    {
      "cell_type": "code",
      "metadata": {
        "id": "gKNXgCYNMo3A"
      },
      "source": [
        ""
      ],
      "execution_count": null,
      "outputs": []
    },
    {
      "cell_type": "code",
      "metadata": {
        "id": "QibClatlMo5l"
      },
      "source": [
        ""
      ],
      "execution_count": null,
      "outputs": []
    },
    {
      "cell_type": "code",
      "metadata": {
        "id": "U3gUharSMo8A"
      },
      "source": [
        ""
      ],
      "execution_count": null,
      "outputs": []
    },
    {
      "cell_type": "code",
      "metadata": {
        "id": "nteEZ-6tMo_B"
      },
      "source": [
        ""
      ],
      "execution_count": null,
      "outputs": []
    }
  ]
}