{
  "nbformat": 4,
  "nbformat_minor": 0,
  "metadata": {
    "colab": {
      "name": "SVC - image classifier.ipynb",
      "provenance": [],
      "authorship_tag": "ABX9TyO0Qn5cBDa2OgIUptfaCE7l",
      "include_colab_link": true
    },
    "kernelspec": {
      "name": "python3",
      "display_name": "Python 3"
    },
    "language_info": {
      "name": "python"
    }
  },
  "cells": [
    {
      "cell_type": "markdown",
      "metadata": {
        "id": "view-in-github",
        "colab_type": "text"
      },
      "source": [
        "<a href=\"https://colab.research.google.com/github/ritiknayakzz/ML-with-Sklearn/blob/main/SVC_image_classifier.ipynb\" target=\"_parent\"><img src=\"https://colab.research.google.com/assets/colab-badge.svg\" alt=\"Open In Colab\"/></a>"
      ]
    },
    {
      "cell_type": "code",
      "metadata": {
        "id": "jK0Gn9Yu9YV4"
      },
      "source": [
        "import matplotlib.pyplot as plt\n",
        "from sklearn import datasets, svm, metrics\n",
        "from sklearn.model_selection import train_test_split"
      ],
      "execution_count": null,
      "outputs": []
    },
    {
      "cell_type": "code",
      "metadata": {
        "id": "zvRM4SJt9jjA"
      },
      "source": [
        "digits = datasets.load_digits() ## hand-written digits"
      ],
      "execution_count": null,
      "outputs": []
    },
    {
      "cell_type": "code",
      "metadata": {
        "colab": {
          "base_uri": "https://localhost:8080/",
          "height": 143
        },
        "id": "iDfyXi7N9jlE",
        "outputId": "57e96505-3213-4e86-e6cb-da293a884b9e"
      },
      "source": [
        "_, axes = plt.subplots(nrows = 1, ncols = 5, figsize = (10, 3))\n",
        "\n",
        "for image, ax, label in zip(digits.images, axes, digits.target):\n",
        "  ax.set_axis_off()\n",
        "  ax.imshow(image, cmap = plt.cm.gray_r, interpolation = 'nearest')\n",
        "  ax.set_title('Training %i' % label)"
      ],
      "execution_count": null,
      "outputs": [
        {
          "output_type": "display_data",
          "data": {
            "image/png": "[encoded data removed]",
            "text/plain": [
              "<Figure size 720x216 with 5 Axes>"
            ]
          },
          "metadata": {
            "tags": [],
            "needs_background": "light"
          }
        }
      ]
    },
    {
      "cell_type": "code",
      "metadata": {
        "id": "VTwThLND9jne"
      },
      "source": [
        "## flatten the images\n",
        "\n",
        "n_samples = len(digits.images) ## 1797\n",
        "data = digits.images.reshape((n_samples, -1))"
      ],
      "execution_count": null,
      "outputs": []
    },
    {
      "cell_type": "markdown",
      "metadata": {
        "id": "m69avfyNn_DW"
      },
      "source": [
        "**Using RBF kernel**"
      ]
    },
    {
      "cell_type": "code",
      "metadata": {
        "id": "CtZzysXY9jo3"
      },
      "source": [
        "clf = svm.SVC(gamma = 0.001)\n",
        "\n",
        "## split the data in training and testing in 50:50 ratio\n",
        "\n",
        "X_train, X_test, y_train, y_test = train_test_split(\n",
        "                                                    data, digits.target, test_size = 0.5, shuffle = False\n",
        "                                                  )"
      ],
      "execution_count": null,
      "outputs": []
    },
    {
      "cell_type": "code",
      "metadata": {
        "colab": {
          "base_uri": "https://localhost:8080/"
        },
        "id": "Lkk_hhr59jqI",
        "outputId": "7f5ef3b7-5eb5-437a-e2f7-30bbcfdfc369"
      },
      "source": [
        "## Learn the digits on the train subset\n",
        "\n",
        "clf.fit(X_train, y_train)"
      ],
      "execution_count": null,
      "outputs": [
        {
          "output_type": "execute_result",
          "data": {
            "text/plain": [
              "SVC(C=1.0, break_ties=False, cache_size=200, class_weight=None, coef0=0.0,\n",
              "    decision_function_shape='ovr', degree=3, gamma=0.001, kernel='rbf',\n",
              "    max_iter=-1, probability=False, random_state=None, shrinking=True,\n",
              "    tol=0.001, verbose=False)"
            ]
          },
          "metadata": {
            "tags": []
          },
          "execution_count": 6
        }
      ]
    },
    {
      "cell_type": "code",
      "metadata": {
        "id": "sRXjTL-k9jsk"
      },
      "source": [
        "## predict the values on the test subset\n",
        "\n",
        "predicted = clf.predict(X_test)"
      ],
      "execution_count": null,
      "outputs": []
    },
    {
      "cell_type": "code",
      "metadata": {
        "colab": {
          "base_uri": "https://localhost:8080/",
          "height": 191
        },
        "id": "957Zq8yp9juD",
        "outputId": "b135e637-06a2-43d8-edb2-55ede3af6827"
      },
      "source": [
        "_, axes = plt.subplots(nrows = 1, ncols = 5, figsize = (15, 8))\n",
        "\n",
        "for ax, image, prediction, actual in zip(axes, X_test, predicted, y_test):\n",
        "  ax.set_axis_off()\n",
        "  image = image.reshape(8, 8)\n",
        "  ax.imshow(image, cmap = plt.cm.gray_r, interpolation = 'nearest')\n",
        "  ax.set_title(f'Prediction/Actual: {prediction, actual}')"
      ],
      "execution_count": null,
      "outputs": [
        {
          "output_type": "display_data",
          "data": {
            "image/png": "[encoded data removed]",
            "text/plain": [
              "<Figure size 1080x576 with 5 Axes>"
            ]
          },
          "metadata": {
            "tags": [],
            "needs_background": "light"
          }
        }
      ]
    },
    {
      "cell_type": "code",
      "metadata": {
        "colab": {
          "base_uri": "https://localhost:8080/"
        },
        "id": "NsvG6Y7D9jvy",
        "outputId": "634d5fc6-8810-4736-97cd-bab964c1af57"
      },
      "source": [
        "print(metrics.accuracy_score(y_test, predicted))"
      ],
      "execution_count": null,
      "outputs": [
        {
          "output_type": "stream",
          "text": [
            "0.9688542825361512\n"
          ],
          "name": "stdout"
        }
      ]
    },
    {
      "cell_type": "markdown",
      "metadata": {
        "id": "o27F_NDwk321"
      },
      "source": [
        "**Using the Linear kernel**"
      ]
    },
    {
      "cell_type": "code",
      "metadata": {
        "colab": {
          "base_uri": "https://localhost:8080/",
          "height": 191
        },
        "id": "Mj-cUfKa9jyj",
        "outputId": "3b2816c2-2fbe-43cd-be3b-042b1650d121"
      },
      "source": [
        "clf = svm.SVC(kernel = 'linear')\n",
        "\n",
        "## split the data in training and testing in 50:50 ratio\n",
        "\n",
        "X_train, X_test, y_train, y_test = train_test_split(\n",
        "                                                    data, digits.target, test_size = 0.5, shuffle = False\n",
        "                                                  )\n",
        "\n",
        "clf.fit(X_train, y_train)\n",
        "\n",
        "predicted = clf.predict(X_test)\n",
        "\n",
        "_, axes = plt.subplots(nrows = 1, ncols = 5, figsize = (15, 8))\n",
        "\n",
        "for ax, image, prediction, actual in zip(axes, X_test, predicted, y_test):\n",
        "  ax.set_axis_off()\n",
        "  image = image.reshape(8, 8)\n",
        "  ax.imshow(image, cmap = plt.cm.gray_r, interpolation = 'nearest')\n",
        "  ax.set_title(f'Prediction/Actual: {prediction, actual}')"
      ],
      "execution_count": null,
      "outputs": [
        {
          "output_type": "display_data",
          "data": {
            "image/png": "[encoded data removed]",
            "text/plain": [
              "<Figure size 1080x576 with 5 Axes>"
            ]
          },
          "metadata": {
            "tags": [],
            "needs_background": "light"
          }
        }
      ]
    },
    {
      "cell_type": "code",
      "metadata": {
        "id": "m39f4o869j0H",
        "colab": {
          "base_uri": "https://localhost:8080/"
        },
        "outputId": "a71e54eb-890c-4c0c-ea1f-cfda4397fb49"
      },
      "source": [
        "print(metrics.accuracy_score(y_test, predicted))"
      ],
      "execution_count": null,
      "outputs": [
        {
          "output_type": "stream",
          "text": [
            "0.9443826473859844\n"
          ],
          "name": "stdout"
        }
      ]
    },
    {
      "cell_type": "markdown",
      "metadata": {
        "id": "wFWYdwerlcL9"
      },
      "source": [
        "**Using Sigmoid kernel**"
      ]
    },
    {
      "cell_type": "code",
      "metadata": {
        "colab": {
          "base_uri": "https://localhost:8080/",
          "height": 191
        },
        "id": "WWzGPGn7lhfr",
        "outputId": "5b03b6cf-c3d8-4616-f420-c301de39f8d0"
      },
      "source": [
        "clf = svm.SVC(kernel = 'sigmoid')\n",
        "\n",
        "## split the data in training and testing in 50:50 ratio\n",
        "\n",
        "X_train, X_test, y_train, y_test = train_test_split(\n",
        "                                                    data, digits.target, test_size = 0.5, shuffle = False\n",
        "                                                  )\n",
        "\n",
        "clf.fit(X_train, y_train)\n",
        "\n",
        "predicted = clf.predict(X_test)\n",
        "\n",
        "_, axes = plt.subplots(nrows = 1, ncols = 5, figsize = (15, 8))\n",
        "\n",
        "for ax, image, prediction, actual in zip(axes, X_test, predicted, y_test):\n",
        "  ax.set_axis_off()\n",
        "  image = image.reshape(8, 8)\n",
        "  ax.imshow(image, cmap = plt.cm.gray_r, interpolation = 'nearest')\n",
        "  ax.set_title(f'Prediction/Actual: {prediction, actual}')"
      ],
      "execution_count": null,
      "outputs": [
        {
          "output_type": "display_data",
          "data": {
            "image/png": "[encoded data removed]",
            "text/plain": [
              "<Figure size 1080x576 with 5 Axes>"
            ]
          },
          "metadata": {
            "tags": [],
            "needs_background": "light"
          }
        }
      ]
    },
    {
      "cell_type": "code",
      "metadata": {
        "id": "GT5Z2DjW9j4b",
        "colab": {
          "base_uri": "https://localhost:8080/"
        },
        "outputId": "2703045b-6f42-41b3-b143-96acc1ec90dc"
      },
      "source": [
        "print(metrics.accuracy_score(y_test, predicted))"
      ],
      "execution_count": null,
      "outputs": [
        {
          "output_type": "stream",
          "text": [
            "0.8865406006674083\n"
          ],
          "name": "stdout"
        }
      ]
    },
    {
      "cell_type": "markdown",
      "metadata": {
        "id": "hq35gx0en3ig"
      },
      "source": [
        "**Using Poly kernel**"
      ]
    },
    {
      "cell_type": "code",
      "metadata": {
        "id": "0x0ydBjZ9j6n",
        "colab": {
          "base_uri": "https://localhost:8080/",
          "height": 191
        },
        "outputId": "b060053d-d516-4a85-9cd2-4841df5b473c"
      },
      "source": [
        "clf = svm.SVC(kernel = 'poly')\n",
        "\n",
        "## split the data in training and testing in 50:50 ratio\n",
        "\n",
        "X_train, X_test, y_train, y_test = train_test_split(\n",
        "                                                    data, digits.target, test_size = 0.5, shuffle = False\n",
        "                                                  )\n",
        "\n",
        "clf.fit(X_train, y_train)\n",
        "\n",
        "predicted = clf.predict(X_test)\n",
        "\n",
        "_, axes = plt.subplots(nrows = 1, ncols = 5, figsize = (15, 8))\n",
        "\n",
        "for ax, image, prediction, actual in zip(axes, X_test, predicted, y_test):\n",
        "  ax.set_axis_off()\n",
        "  image = image.reshape(8, 8)\n",
        "  ax.imshow(image, cmap = plt.cm.gray_r, interpolation = 'nearest')\n",
        "  ax.set_title(f'Prediction/Actual: {prediction, actual}')"
      ],
      "execution_count": null,
      "outputs": [
        {
          "output_type": "display_data",
          "data": {
            "image/png": "[encoded data removed]",
            "text/plain": [
              "<Figure size 1080x576 with 5 Axes>"
            ]
          },
          "metadata": {
            "tags": [],
            "needs_background": "light"
          }
        }
      ]
    },
    {
      "cell_type": "code",
      "metadata": {
        "id": "p8b3v9qY9j9K",
        "colab": {
          "base_uri": "https://localhost:8080/"
        },
        "outputId": "fd2cb09e-9fee-481b-d21e-3d57cf731ca9"
      },
      "source": [
        "print(metrics.accuracy_score(y_test, predicted))"
      ],
      "execution_count": null,
      "outputs": [
        {
          "output_type": "stream",
          "text": [
            "0.9588431590656284\n"
          ],
          "name": "stdout"
        }
      ]
    },
    {
      "cell_type": "code",
      "metadata": {
        "id": "MIeaMqKo9j_h"
      },
      "source": [
        ""
      ],
      "execution_count": null,
      "outputs": []
    },
    {
      "cell_type": "code",
      "metadata": {
        "id": "S4IKNuoK9kCP"
      },
      "source": [
        ""
      ],
      "execution_count": null,
      "outputs": []
    },
    {
      "cell_type": "code",
      "metadata": {
        "id": "W1StSv3-9kEf"
      },
      "source": [
        ""
      ],
      "execution_count": null,
      "outputs": []
    },
    {
      "cell_type": "code",
      "metadata": {
        "id": "FY4E7XMV9kG5"
      },
      "source": [
        ""
      ],
      "execution_count": null,
      "outputs": []
    }
  ]
}